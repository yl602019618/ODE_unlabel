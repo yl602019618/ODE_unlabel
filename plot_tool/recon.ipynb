{
 "cells": [
  {
   "cell_type": "code",
   "execution_count": 1,
   "metadata": {},
   "outputs": [
    {
     "name": "stdout",
     "output_type": "stream",
     "text": [
      "/home/ubuntu/ODE_project/paper/linear2D\n"
     ]
    },
    {
     "name": "stderr",
     "output_type": "stream",
     "text": [
      "/home/ubuntu/.conda/envs/torch/lib/python3.8/site-packages/tqdm/auto.py:21: TqdmWarning: IProgress not found. Please update jupyter and ipywidgets. See https://ipywidgets.readthedocs.io/en/stable/user_install.html\n",
      "  from .autonotebook import tqdm as notebook_tqdm\n"
     ]
    }
   ],
   "source": [
    "import os\n",
    "os.chdir('/home/ubuntu/ODE_project/paper/linear2D')\n",
    "print(os.getcwd())\n",
    "import torch\n",
    "import torch.nn as nn\n",
    "import numpy as np\n",
    "from collections import OrderedDict\n",
    "from pyDOE import lhs\n",
    "import time\n",
    "import math\n",
    "import ot\n",
    "from torchdiffeq import odeint\n",
    "from utils import linear_damped_SHO\n",
    "from utils import cubic_damped_SHO\n",
    "from utils import linear_3D\n",
    "from utils import lorentz,HH\n",
    "from tool import data_gen_real,cluster,compute_time_error\n",
    "import torch.optim as optim\n",
    "import torch.nn.functional as F\n",
    "from torch import nn\n",
    "import os\n",
    "from scipy.integrate import solve_ivp\n",
    "from scipy.io import loadmat\n",
    "from sklearn.cluster import AgglomerativeClustering\n",
    "from sklearn.neighbors import kneighbors_graph\n",
    "import matplotlib.pyplot as plt\n",
    "import logging\n",
    "logger = logging.getLogger(__name__)\n",
    "from matplotlib import rcParams\n",
    "from model import MLP,Linear2D_system\n",
    "font = {'family' : 'Times New Roman',\n",
    "'weight' : 'normal',\n",
    "'size'   : 17,\n",
    "        }\n",
    "# Cubic2D\n",
    "from tool import data_gen_real,cluster\n",
    "integrator_keywords = {}\n",
    "integrator_keywords['rtol'] = 1e-12\n",
    "integrator_keywords['method'] = 'LSODA'\n",
    "integrator_keywords['atol'] = 1e-12\n",
    "x_init =  np.array([2.0,0.0])\n",
    "eps = 0.02\n",
    "full_bs = 50000\n",
    "T = 10\n",
    "n_cluster = 8\n",
    "dim = 2\n",
    "device = torch.device('cpu')\n",
    "key = integrator_keywords\n",
    "model ='Linear2D'\n",
    "data_x,data_t = data_gen_real(full_bs,T,device,x_init,key,model)"
   ]
  },
  {
   "cell_type": "code",
   "execution_count": 12,
   "metadata": {},
   "outputs": [],
   "source": [
    "ode_model = MLP(nh=500,nin = 1,nout=dim).to(device)\n",
    "ode_model.load_state_dict(torch.load('results/ckpt_ADO_done.pth'))\n",
    "time_val = torch.linspace(0,T,50000)\n",
    "pred_t,mean_error = compute_time_error(ode_model,time_val,data_x,data_t)"
   ]
  },
  {
   "cell_type": "code",
   "execution_count": 15,
   "metadata": {},
   "outputs": [],
   "source": [
    "ode_model = MLP(nh=500,nin = 1,nout=dim).to(device)\n",
    "ode_model.load_state_dict(torch.load('results/ckpt_ADO.pth'))\n",
    "time_val = torch.linspace(0,T,50000)\n",
    "pred_t,mean_error = compute_time_error(ode_model,time_val,data_x,data_t)"
   ]
  },
  {
   "cell_type": "code",
   "execution_count": 2,
   "metadata": {},
   "outputs": [],
   "source": [
    "model_param = Linear2D_system(device=device)\n",
    "model_param.load_state_dict(torch.load('results/ckpt_shoot.pth'))\n",
    "time_val = torch.linspace(0,T,500)\n",
    "pred_t,mean_error = compute_time_error(model_param,time_val,data_x,data_t,'ODE')\n"
   ]
  }
 ],
 "metadata": {
  "kernelspec": {
   "display_name": "torch",
   "language": "python",
   "name": "python3"
  },
  "language_info": {
   "codemirror_mode": {
    "name": "ipython",
    "version": 3
   },
   "file_extension": ".py",
   "mimetype": "text/x-python",
   "name": "python",
   "nbconvert_exporter": "python",
   "pygments_lexer": "ipython3",
   "version": "3.8.13"
  },
  "orig_nbformat": 4,
  "vscode": {
   "interpreter": {
    "hash": "c33df9750fb0ff9ae66acf385796e7a31c81efdef4a476bccafdb8b7a8350fdc"
   }
  }
 },
 "nbformat": 4,
 "nbformat_minor": 2
}
